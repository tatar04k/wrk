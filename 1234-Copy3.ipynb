{
 "cells": [
  {
   "cell_type": "code",
   "execution_count": null,
   "id": "d7029f82-d033-4079-b9bc-5fe96ad59bd5",
   "metadata": {},
   "outputs": [
    {
     "name": "stderr",
     "output_type": "stream",
     "text": [
      "2024-12-19 15:38:27.361299: I tensorflow/tsl/cuda/cudart_stub.cc:28] Could not find cuda drivers on your machine, GPU will not be used.\n",
      "2024-12-19 15:38:27.561250: E tensorflow/compiler/xla/stream_executor/cuda/cuda_dnn.cc:9342] Unable to register cuDNN factory: Attempting to register factory for plugin cuDNN when one has already been registered\n",
      "2024-12-19 15:38:27.561301: E tensorflow/compiler/xla/stream_executor/cuda/cuda_fft.cc:609] Unable to register cuFFT factory: Attempting to register factory for plugin cuFFT when one has already been registered\n",
      "2024-12-19 15:38:27.562295: E tensorflow/compiler/xla/stream_executor/cuda/cuda_blas.cc:1518] Unable to register cuBLAS factory: Attempting to register factory for plugin cuBLAS when one has already been registered\n",
      "2024-12-19 15:38:27.661440: I tensorflow/core/platform/cpu_feature_guard.cc:182] This TensorFlow binary is optimized to use available CPU instructions in performance-critical operations.\n",
      "To enable the following instructions: AVX2 FMA, in other operations, rebuild TensorFlow with the appropriate compiler flags.\n",
      "2024-12-19 15:38:29.105547: W tensorflow/compiler/tf2tensorrt/utils/py_utils.cc:38] TF-TRT Warning: Could not find TensorRT\n"
     ]
    },
    {
     "data": {
      "application/vnd.jupyter.widget-view+json": {
       "model_id": "09a99478095c4c64a2082b7c5c0a1b0e",
       "version_major": 2,
       "version_minor": 0
      },
      "text/plain": [
       "Loading checkpoint shards:   0%|          | 0/4 [00:00<?, ?it/s]"
      ]
     },
     "metadata": {},
     "output_type": "display_data"
    },
    {
     "name": "stdout",
     "output_type": "stream",
     "text": [
      " * Serving Flask app '__main__'\n",
      " * Debug mode: off\n"
     ]
    },
    {
     "name": "stderr",
     "output_type": "stream",
     "text": [
      "WARNING: This is a development server. Do not use it in a production deployment. Use a production WSGI server instead.\n",
      " * Running on all addresses (0.0.0.0)\n",
      " * Running on http://127.0.0.1:8079\n",
      " * Running on http://192.168.9.78:8079\n",
      "Press CTRL+C to quit\n",
      "192.168.9.78 - - [19/Dec/2024 15:39:23] \"GET / HTTP/1.1\" 200 -\n",
      "192.168.9.78 - - [19/Dec/2024 15:39:24] \"GET /favicon.ico HTTP/1.1\" 404 -\n",
      "192.168.9.78 - - [19/Dec/2024 15:39:43] \"POST / HTTP/1.1\" 200 -\n",
      "192.168.9.78 - - [19/Dec/2024 15:40:03] \"POST / HTTP/1.1\" 200 -\n"
     ]
    }
   ],
   "source": [
    "from flask import Flask, request, render_template_string\n",
    "from transformers import AutoModelForCausalLM, AutoTokenizer\n",
    "import torch\n",
    "\n",
    "model_name = \"t-tech/T-lite-it-1.0\" \n",
    "model = AutoModelForCausalLM.from_pretrained(\n",
    "    model_name,\n",
    "    cache_dir=\"transcripting\",\n",
    "    torch_dtype=torch.float16,\n",
    "    low_cpu_mem_usage=True\n",
    ").to(\"cuda\")\n",
    "\n",
    "tokenizer = AutoTokenizer.from_pretrained(model_name)\n",
    "\n",
    "page_template = \"\"\"\n",
    "<!DOCTYPE html>\n",
    "<html>\n",
    "<head>\n",
    "    <title>Flask Interface</title>\n",
    "    <style>\n",
    "        body {\n",
    "            font-family: Arial, sans-serif;\n",
    "            margin: 40px;\n",
    "            background: #f7f7f7;\n",
    "        }\n",
    "        h1 { color: #333; }\n",
    "        form, .response {\n",
    "            background: #fff;\n",
    "            padding: 20px;\n",
    "            border-radius: 5px;\n",
    "            margin-bottom: 20px;\n",
    "        }\n",
    "        label {\n",
    "            font-weight: bold;\n",
    "        }\n",
    "        input[type=\"text\"], textarea {\n",
    "            width: 100%;\n",
    "            padding: 10px;\n",
    "            margin-top: 10px;\n",
    "            box-sizing: border-box;\n",
    "        }\n",
    "        button {\n",
    "            background: #0d6efd;\n",
    "            color: #fff;\n",
    "            border: none;\n",
    "            padding: 10px 20px;\n",
    "            margin-top: 10px;\n",
    "            cursor: pointer;\n",
    "            border-radius: 4px;\n",
    "        }\n",
    "        button:hover {\n",
    "            background: #0b5ed7;\n",
    "        }\n",
    "        .response {\n",
    "            border: 1px solid #ddd;\n",
    "        }\n",
    "        .response p {\n",
    "            white-space: pre-wrap;\n",
    "        }\n",
    "    </style>\n",
    "</head>\n",
    "<body>\n",
    "    <h1>Qwen Chatbot Interface на Flask</h1>\n",
    "    <form method=\"post\">\n",
    "        <label for=\"prompt\">Введите ваш запрос:</label>\n",
    "        <textarea name=\"prompt\" id=\"prompt\" rows=\"3\">{{ prompt_text }}</textarea>\n",
    "        <button type=\"submit\">Сгенерировать ответ</button>\n",
    "    </form>\n",
    "    {% if response_text %}\n",
    "    <div class=\"response\">\n",
    "        <h2>Ответ:</h2>\n",
    "        <p>{{ response_text }}</p>\n",
    "    </div>\n",
    "    {% endif %}\n",
    "</body>\n",
    "</html>\n",
    "\"\"\"\n",
    "\n",
    "app = Flask(__name__)\n",
    "\n",
    "def generate_response(prompt):\n",
    "    messages = [\n",
    "        {\"role\": \"system\", \"content\": \"Ты умный ассистент\"},\n",
    "        {\"role\": \"user\", \"content\": f'''Определи название ОКПД-2 по объекту закупки: {prompt}.'''}\n",
    "    ]\n",
    "    text = tokenizer.apply_chat_template(\n",
    "        messages,\n",
    "        tokenize=False,\n",
    "        add_generation_prompt=True\n",
    "    )\n",
    "    model_inputs = tokenizer([text], return_tensors=\"pt\").to(model.device)\n",
    "\n",
    "    generated_ids = model.generate(\n",
    "        **model_inputs,\n",
    "        max_new_tokens=512\n",
    "    )\n",
    "    generated_ids = [\n",
    "        output_ids[len(input_ids):] for input_ids, output_ids in zip(model_inputs.input_ids, generated_ids)\n",
    "    ]\n",
    "\n",
    "    response = tokenizer.batch_decode(generated_ids, skip_special_tokens=True)[0]\n",
    "    return response\n",
    "\n",
    "@app.route(\"/\", methods=[\"GET\", \"POST\"])\n",
    "def home():\n",
    "    prompt_text = \"\"\n",
    "    response_text = \"\"\n",
    "    if request.method == \"POST\":\n",
    "        prompt_text = request.form.get(\"prompt\", \"\")\n",
    "        if prompt_text.strip():\n",
    "            response_text = generate_response(prompt_text)\n",
    "\n",
    "    return render_template_string(page_template, prompt_text=prompt_text, response_text=response_text)\n",
    "\n",
    "if __name__ == \"__main__\":\n",
    "    app.run(host=\"0.0.0.0\", port=8079)\n"
   ]
  },
  {
   "cell_type": "code",
   "execution_count": null,
   "id": "fe392a49-5cd9-42df-98b2-16320599e6bc",
   "metadata": {},
   "outputs": [],
   "source": []
  }
 ],
 "metadata": {
  "kernelspec": {
   "display_name": "awq",
   "language": "python",
   "name": "awq"
  },
  "language_info": {
   "codemirror_mode": {
    "name": "ipython",
    "version": 3
   },
   "file_extension": ".py",
   "mimetype": "text/x-python",
   "name": "python",
   "nbconvert_exporter": "python",
   "pygments_lexer": "ipython3",
   "version": "3.11.10"
  }
 },
 "nbformat": 4,
 "nbformat_minor": 5
}
